{
 "cells": [
  {
   "cell_type": "markdown",
   "metadata": {},
   "source": [
    "# Necessary Libraries / Imports"
   ]
  },
  {
   "cell_type": "code",
   "execution_count": null,
   "metadata": {
    "scrolled": false
   },
   "outputs": [],
   "source": [
    "import numpy as np\n",
    "import tensorflow as tf\n",
    "from tensorflow.keras.models import Sequential\n",
    "from tensorflow.keras.layers import Conv1D, Dense, Dropout, Activation, Input, MaxPool1D, Flatten, Dropout\n",
    "from tensorflow.keras.optimizers import Adam\n",
    "from tensorflow.keras.losses import categorical_crossentropy\n",
    "from tensorflow.keras.callbacks import TensorBoard\n",
    "from data_generator import DataGenerator"
   ]
  },
  {
   "cell_type": "code",
   "execution_count": null,
   "metadata": {},
   "outputs": [],
   "source": [
    "class TrainerWrapper:\n",
    "    def __init__(self, name):\n",
    "        self._model = None\n",
    "        self._is_summary_shown = False\n",
    "        self._network_name = name\n",
    "    \n",
    "    def _load_data(self, seed):\n",
    "        data_generator = DataGenerator(seed=seed, upsampling=5, validation_split=0.2)\n",
    "        self._validation_X, self._validation_y = data_generator.get_validation_data()\n",
    "        self._training_generator = data_generator.get_training_generator(1000)\n",
    "        \n",
    "    def _create_network(self):\n",
    "        self._model = Sequential()\n",
    "        self._model.add(Input(shape=(140, 4)))\n",
    "        self._model.add(Conv1D(filters=1, kernel_size=3, strides=1, padding='same', activation='relu'))\n",
    "        self._model.add(Conv1D(filters=16, kernel_size=7, strides=1, padding='same', activation='relu'))\n",
    "        self._model.add(MaxPool1D())\n",
    "        self._model.add(Conv1D(filters=32, kernel_size=5, strides=1, padding='same', activation='relu'))\n",
    "        self._model.add(MaxPool1D())\n",
    "        self._model.add(Conv1D(filters=64, kernel_size=3, strides=1, padding='same', activation='relu'))\n",
    "        self._model.add(MaxPool1D())\n",
    "        self._model.add(Conv1D(filters=128, kernel_size=3, strides=1, padding='same', activation='relu'))\n",
    "        self._model.add(MaxPool1D())\n",
    "        self._model.add(Flatten())\n",
    "        self._model.add(Dense(units=64, activation='relu'))\n",
    "        self._model.add(Dense(units=20, activation='relu'))\n",
    "        self._model.add(Dropout(0.3))\n",
    "        self._model.add(Dense(units=3, activation='softmax'))\n",
    "    \n",
    "    def _compile_model(self):\n",
    "        self._model.compile(\n",
    "            loss=categorical_crossentropy, \n",
    "            optimizer=Adam(learning_rate=0.001), \n",
    "            metrics=['accuracy']\n",
    "        )\n",
    "    \n",
    "    def _fit(self, epochs):\n",
    "        self._model.fit(\n",
    "            self._training_generator,\n",
    "            epochs=epochs,\n",
    "            shuffle=True,\n",
    "            validation_data=(self._validation_X, self._validation_y),\n",
    "            verbose=True,\n",
    "            callbacks=[\n",
    "                TensorBoard(\n",
    "                    log_dir=f'logs/{self._name}',\n",
    "                    write_graph=False,\n",
    "                    write_images=False,\n",
    "                    update_freq=\"epoch\"\n",
    "                )\n",
    "            ]\n",
    "        )\n",
    "        \n",
    "        \n",
    "    def fit(self, experiments=5, epochs=10):\n",
    "        for seed in range(experiments):\n",
    "            self._name = f'{self._network_name}/e{seed}/'\n",
    "            self._load_data(seed=seed)\n",
    "            self._create_network()\n",
    "            self._compile_model()\n",
    "            if not self._is_summary_shown:\n",
    "                self._model.summary()\n",
    "                self._is_summary_shown = True\n",
    "            self._fit(epochs)\n",
    "            tf.keras.backend.clear_session()"
   ]
  },
  {
   "cell_type": "markdown",
   "metadata": {},
   "source": [
    "# Loading the data"
   ]
  },
  {
   "cell_type": "code",
   "execution_count": null,
   "metadata": {
    "scrolled": false
   },
   "outputs": [],
   "source": [
    "execute_on_gpu = True\n",
    "\n",
    "with tf.device('/gpu:0' if execute_on_gpu else '/cpu:0'):\n",
    "    model = TrainerWrapper(name='cnn')\n",
    "    model.fit(1, 100)"
   ]
  }
 ],
 "metadata": {
  "kernelspec": {
   "display_name": "Python 3",
   "language": "python",
   "name": "python3"
  },
  "language_info": {
   "codemirror_mode": {
    "name": "ipython",
    "version": 3
   },
   "file_extension": ".py",
   "mimetype": "text/x-python",
   "name": "python",
   "nbconvert_exporter": "python",
   "pygments_lexer": "ipython3",
   "version": "3.6.6"
  }
 },
 "nbformat": 4,
 "nbformat_minor": 4
}
