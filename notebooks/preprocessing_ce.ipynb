{
 "cells": [
  {
   "cell_type": "markdown",
   "metadata": {
    "pycharm": {
     "name": "#%% md\n"
    }
   },
   "source": [
    "# Necessary Libraries"
   ]
  },
  {
   "cell_type": "code",
   "execution_count": 1,
   "metadata": {
    "pycharm": {
     "name": "#%%\n"
    }
   },
   "outputs": [],
   "source": [
    "from requests import get\n",
    "from os import mkdir\n",
    "import zipfile\n",
    "import os\n",
    "import re\n",
    "import numpy as np\n",
    "from os import rename\n",
    "import shutil\n",
    "import time"
   ]
  },
  {
   "cell_type": "markdown",
   "metadata": {
    "pycharm": {
     "name": "#%% md\n"
    }
   },
   "source": [
    "# Downloading the Data"
   ]
  },
  {
   "cell_type": "code",
   "execution_count": 2,
   "metadata": {
    "pycharm": {
     "name": "#%%\n"
    }
   },
   "outputs": [
    {
     "name": "stdout",
     "output_type": "stream",
     "text": [
      "Downloading C_ElegansDonorSample180K-1.fasta ...\n",
      "Download Completed.\n",
      "Downloading C_ElegansAcceptorSample180K-1.fasta ...\n",
      "Download Completed.\n",
      "All Downloads Completed!\n"
     ]
    }
   ],
   "source": [
    "# Create directory if it does not exists\n",
    "try:\n",
    "    mkdir('data')\n",
    "except Exception:\n",
    "    pass\n",
    "\n",
    "# Files to Download\n",
    "files = [\n",
    "    'C_ElegansDonorSample180K-1.fasta',\n",
    "    'C_ElegansAcceptorSample180K-1.fasta'\n",
    "]\n",
    "\n",
    "# Downloading and saving the files\n",
    "for file_name in files:\n",
    "    print(f'Downloading {file_name} ...')\n",
    "    with open(f'data/{file_name}', 'wb') as file:\n",
    "        response = get(f'https://cs.gmu.edu/~ashehu/sites/default/files/tools/TCBB_2012/data/C_Elegans/{file_name}')\n",
    "        file.write(response.content)\n",
    "        print(f'Download Completed.')\n",
    "        time.sleep(10)\n",
    "print(f'All Downloads Completed!')"
   ]
  },
  {
   "cell_type": "markdown",
   "metadata": {
    "pycharm": {
     "name": "#%% md\n"
    }
   },
   "source": [
    "# Necessary Files\n",
    "\n",
    "Marking the necessary file with sequence information. The necessary information is in `.fasta` files."
   ]
  },
  {
   "cell_type": "code",
   "execution_count": 3,
   "metadata": {
    "pycharm": {
     "name": "#%%\n"
    }
   },
   "outputs": [
    {
     "data": {
      "text/plain": "[{'file_name': 'C_ElegansDonorSample180K-1.fasta',\n  'file_location': 'data/C_ElegansDonorSample180K-1.fasta',\n  'is_acceptor': False},\n {'file_name': 'C_ElegansAcceptorSample180K-1.fasta',\n  'file_location': 'data/C_ElegansAcceptorSample180K-1.fasta',\n  'is_acceptor': True}]"
     },
     "execution_count": 3,
     "metadata": {},
     "output_type": "execute_result"
    }
   ],
   "source": [
    "# Creating File Information Objects\n",
    "data_files = []\n",
    "for root, dirs, files in os.walk('data/'):\n",
    "    for file in files:\n",
    "        if re.search('\\.fasta.?\\d*$', file):\n",
    "            is_acceptor = bool(re.search('Acceptor', file))\n",
    "            data_files.append({\n",
    "                'file_name': file.replace('.seq',''),\n",
    "                'file_location': os.path.join(root, file),\n",
    "                'is_acceptor': is_acceptor\n",
    "            })\n",
    "data_files"
   ]
  },
  {
   "cell_type": "markdown",
   "metadata": {
    "pycharm": {
     "name": "#%% md\n"
    }
   },
   "source": [
    "# Parsing the Files\n",
    "\n",
    "Parsing the information within the files. This step will take a long time. "
   ]
  },
  {
   "cell_type": "code",
   "execution_count": 4,
   "outputs": [
    {
     "name": "stdout",
     "output_type": "stream",
     "text": [
      "Parsing Files EI_true and EI_false ...\n",
      "Writing EI_true.npz and EI_false.npz.\n",
      "180000 datapoints.\n",
      "Parsing Files IE_true and IE_false ...\n",
      "Writing IE_true.npz and IE_false.npz.\n",
      "180000 datapoints.\n"
     ]
    }
   ],
   "source": [
    "# Converting Files to Numpy Arrays and saving .npz\n",
    "\n",
    "# Using reqular expression to extract the RNA sequences.\n",
    "detector = re.compile('[acgt]{140}')\n",
    "label_detector = re.compile('-?\\d')\n",
    "\n",
    "# Categorizing the bases\n",
    "nucleotides = {\n",
    "    'a': 0,\n",
    "    'c': 1,\n",
    "    'g': 2,\n",
    "    't': 3,\n",
    "}\n",
    "def convert_nucleotides(sequence):\n",
    "    return [nucleotides[nucleotide] for nucleotide in sequence]\n",
    "\n",
    "# Encoding Labels\n",
    "def get_label(file_obj, sequence):\n",
    "    \"\"\"\n",
    "    0: None\n",
    "    1: Acceptor\n",
    "    2: Donor\n",
    "    \"\"\"\n",
    "    if sequence == '-1':\n",
    "        return 0\n",
    "    if file_obj['is_acceptor']:\n",
    "        return 1\n",
    "    return 2\n",
    "\n",
    "# Going through each candidate file\n",
    "for file_obj in data_files:\n",
    "    file_name = file_obj['file_name']\n",
    "    is_acceptor = file_obj['is_acceptor']\n",
    "    new_file_name = 'IE' if is_acceptor else 'EI'\n",
    "    # Skip if file is already processed\n",
    "    if os.path.isfile(f'data/{new_file_name}_true.npz'):\n",
    "        print(f'{new_file_name}_true exists ...')\n",
    "        continue\n",
    "        \n",
    "    data_count = 0\n",
    "    # Read the seq file\n",
    "    with open(file_obj['file_location'], 'r') as f:\n",
    "        data_X_true = np.empty_like([])\n",
    "        data_X_false = np.empty_like([])\n",
    "        data_y_true = np.empty_like([])\n",
    "        data_y_false = np.empty_like([])\n",
    "        print(f'Parsing Files {new_file_name}_true and {new_file_name}_false ...')\n",
    "        for line in f:\n",
    "            # Extracting info using regular expressions\n",
    "            result = detector.findall(line)\n",
    "            label_result = label_detector.findall(line)\n",
    "            if result and label_result[0] == '-1':\n",
    "                data_count += 1\n",
    "                data_X_false = np.append(data_X_false, convert_nucleotides(result[0]))\n",
    "                data_y_false = np.append(data_y_false, get_label(file_obj, label_result[0]))\n",
    "                print(data_count, end='\\r')\n",
    "            else:\n",
    "                data_count += 1\n",
    "                data_X_true = np.append(data_X_true, convert_nucleotides(result[0]))\n",
    "                data_y_true = np.append(data_y_true, get_label(file_obj, label_result[0]))\n",
    "                print(data_count, end='\\r')\n",
    "            # if data_count >= 20000:\n",
    "            #     break\n",
    "        # Saving the data as compressed .npz file\n",
    "        print(f'Writing {new_file_name}_true.npz and {new_file_name}_false.npz.')\n",
    "        np.savez_compressed(f'data/{new_file_name}_true.npz', X=data_X_true, y=data_y_true)\n",
    "        np.savez_compressed(f'data/{new_file_name}_false.npz', X=data_X_false, y=data_y_false)\n",
    "        print(f'{data_count} datapoints.')\n"
   ],
   "metadata": {
    "collapsed": false,
    "pycharm": {
     "name": "#%%\n"
    }
   }
  },
  {
   "cell_type": "markdown",
   "source": [
    "# Reshaping the data\n",
    "\n",
    "The data should be in the shape of `(<number_of_data>, 140)` and labels like `(<number_of_data>, 1)`"
   ],
   "metadata": {
    "collapsed": false,
    "pycharm": {
     "name": "#%% md\n"
    }
   }
  },
  {
   "cell_type": "code",
   "execution_count": 5,
   "outputs": [],
   "source": [
    "files = [\n",
    "    'IE_true.npz',\n",
    "    'IE_false.npz',\n",
    "    'EI_true.npz',\n",
    "    'EI_false.npz'\n",
    "]"
   ],
   "metadata": {
    "collapsed": false,
    "pycharm": {
     "name": "#%%\n"
    }
   }
  },
  {
   "cell_type": "code",
   "execution_count": 6,
   "outputs": [],
   "source": [
    "# Reading and reshaping files\n",
    "\n",
    "for file in files:\n",
    "    data = np.load(f'data/{file}')\n",
    "    X = data['X']\n",
    "    y = data['y']\n",
    "    X = X.reshape(-1, 140)\n",
    "    y = y.reshape(-1, 1)\n",
    "    np.savez_compressed(f'data/{file}', X=X, y=y)"
   ],
   "metadata": {
    "collapsed": false,
    "pycharm": {
     "name": "#%%\n"
    }
   }
  },
  {
   "cell_type": "markdown",
   "source": [
    "# One Hot Encoding"
   ],
   "metadata": {
    "collapsed": false,
    "pycharm": {
     "name": "#%% md\n"
    }
   }
  },
  {
   "cell_type": "code",
   "execution_count": 7,
   "outputs": [],
   "source": [
    "# Reading and reshaping files\n",
    "\n",
    "for file in files:\n",
    "    data = np.load(f'data/{file}')\n",
    "\n",
    "    X = data['X']\n",
    "    X_encoded = np.zeros(shape=(*X.shape, 4))\n",
    "    # Encoding\n",
    "    for r in range(X.shape[0]):\n",
    "        for c in range(X.shape[1]):\n",
    "            X_encoded[r, c, int(X[r, c])] = 1\n",
    "\n",
    "    y = data['y']\n",
    "    y_encoded = np.zeros(shape=(y.shape[0], 3))\n",
    "    for r in range(y.shape[0]):\n",
    "        y_encoded[r, int(y[r])] = 1\n",
    "\n",
    "    # Saving Files\n",
    "    np.savez_compressed(f'data/encoded_{file}', X=X_encoded, y=y_encoded)"
   ],
   "metadata": {
    "collapsed": false,
    "pycharm": {
     "name": "#%%\n"
    }
   }
  },
  {
   "cell_type": "markdown",
   "source": [
    "# Displaying Information For Control\n",
    "\n",
    "The shape of the data shoule be `(<number_of_data>, 140, 4)`.\n",
    "\n",
    "The shape of the lables should be `(<number_of_data>, 3)`."
   ],
   "metadata": {
    "collapsed": false,
    "pycharm": {
     "name": "#%% md\n"
    }
   }
  },
  {
   "cell_type": "code",
   "execution_count": 8,
   "outputs": [
    {
     "name": "stdout",
     "output_type": "stream",
     "text": [
      "data/IE_true.npz (6300, 140) (6300, 1)\n",
      "data/IE_false.npz (173700, 140) (173700, 1)\n",
      "data/EI_true.npz (6300, 140) (6300, 1)\n",
      "data/EI_false.npz (173700, 140) (173700, 1)\n",
      "data/encoded_IE_true.npz (6300, 140, 4) (6300, 3)\n",
      "data/encoded_IE_false.npz (173700, 140, 4) (173700, 3)\n",
      "data/encoded_EI_true.npz (6300, 140, 4) (6300, 3)\n",
      "data/encoded_EI_false.npz (173700, 140, 4) (173700, 3)\n"
     ]
    }
   ],
   "source": [
    "# Displaying information\n",
    "for file in files:\n",
    "    file_location = f'data/{file}'\n",
    "    data = np.load(file_location)\n",
    "    X = data['X']\n",
    "    y = data['y']\n",
    "\n",
    "    print(file_location, X.shape, y.shape)\n",
    "for file in files:\n",
    "    file_location = f'data/encoded_{file}'\n",
    "    data = np.load(file_location)\n",
    "    X = data['X']\n",
    "    y = data['y']\n",
    "    \n",
    "    print(file_location, X.shape, y.shape)"
   ],
   "metadata": {
    "collapsed": false,
    "pycharm": {
     "name": "#%%\n"
    }
   }
  }
 ],
 "metadata": {
  "kernelspec": {
   "display_name": "Python 3 (ipykernel)",
   "language": "python",
   "name": "python3"
  },
  "language_info": {
   "codemirror_mode": {
    "name": "ipython",
    "version": 3
   },
   "file_extension": ".py",
   "mimetype": "text/x-python",
   "name": "python",
   "nbconvert_exporter": "python",
   "pygments_lexer": "ipython3",
   "version": "3.8.9"
  },
  "vscode": {
   "interpreter": {
    "hash": "5290cca8b9a564024df6f1a36b4a2c47a3092f760bf7de961e8ec8b8cce72325"
   }
  }
 },
 "nbformat": 4,
 "nbformat_minor": 4
}