{
 "cells": [
  {
   "cell_type": "markdown",
   "metadata": {
    "collapsed": true,
    "pycharm": {
     "name": "#%% md\n"
    }
   },
   "source": [
    "Loading necessary libraries"
   ]
  },
  {
   "cell_type": "code",
   "execution_count": 4,
   "outputs": [],
   "source": [
    "import sys\n",
    "sys.path.append(\"..\")\n",
    "from tensorflow.python.summary.summary_iterator import summary_iterator\n",
    "import os\n",
    "import matplotlib.pyplot as plt\n",
    "import matplotlib.ticker as tick\n",
    "import numpy as np"
   ],
   "metadata": {
    "collapsed": false,
    "pycharm": {
     "name": "#%%\n"
    }
   }
  },
  {
   "source": [
    "Disabling warnings for a clean preview. Comment the next block for the default state."
   ],
   "cell_type": "markdown",
   "metadata": {}
  },
  {
   "cell_type": "code",
   "execution_count": 5,
   "metadata": {},
   "outputs": [],
   "source": [
    "import tensorflow.python.util.deprecation as deprecation\n",
    "deprecation._PRINT_DEPRECATION_WARNINGS = False"
   ]
  },
  {
   "source": [
    "Necessary Variables"
   ],
   "cell_type": "markdown",
   "metadata": {}
  },
  {
   "cell_type": "code",
   "execution_count": 6,
   "metadata": {},
   "outputs": [],
   "source": [
    "LOG_DIR = '../logs_upsampling/'\n",
    "LOGS = []\n",
    "ALL_DATA = {}\n",
    "HIGH_QUALITY_IMAGES = False"
   ]
  },
  {
   "source": [
    "Going through all the files"
   ],
   "cell_type": "markdown",
   "metadata": {}
  },
  {
   "cell_type": "code",
   "execution_count": 7,
   "metadata": {},
   "outputs": [],
   "source": [
    "# Going through all files\n",
    "for root, dirs, files in os.walk(LOG_DIR):\n",
    "    for file in files:\n",
    "        # Ignoring unnecessary results\n",
    "        if root.find('logs') < 0:\n",
    "            continue\n",
    "        if not file.endswith('.v2'):\n",
    "            continue\n",
    "        if root.find('_level_') < 0:\n",
    "            continue\n",
    "        # Keeping the path to relevant files in memory\n",
    "        LOGS.append(f'{root}/{file}')\n"
   ]
  },
  {
   "cell_type": "code",
   "execution_count": 13,
   "metadata": {
    "tags": []
   },
   "outputs": [],
   "source": [
    "# Loading the data from each relevant log file\n",
    "for log in LOGS:\n",
    "    ALL_DATA[log] = {'loss': [], 'accuracy': [], 'f1': [], 'auc_pr':[], 'start':None, 'end':None}\n",
    "    for summary in summary_iterator(log):\n",
    "        if not ALL_DATA[log]['start']:\n",
    "            ALL_DATA[log]['start'] = float(summary.wall_time)\n",
    "        ALL_DATA[log]['end'] = float(summary.wall_time)\n",
    "        if len(summary.summary.value):\n",
    "            if summary.summary.value[0].tag == 'epoch_loss':\n",
    "                ALL_DATA[log]['loss'].append(summary.summary.value[0].simple_value)\n",
    "            if summary.summary.value[0].tag == 'epoch_accuracy':\n",
    "                ALL_DATA[log]['accuracy'].append(summary.summary.value[0].simple_value)\n",
    "            if summary.summary.value[0].tag == 'epoch_f1':\n",
    "                ALL_DATA[log]['f1'].append(summary.summary.value[0].simple_value)\n",
    "            if summary.summary.value[0].tag == 'epoch_aur_pr':\n",
    "                ALL_DATA[log]['auc_pr'].append(summary.summary.value[0].simple_value)\n"
   ]
  },
  {
   "cell_type": "code",
   "execution_count": 14,
   "metadata": {},
   "outputs": [
    {
     "output_type": "execute_result",
     "data": {
      "text/plain": [
       "dict_keys(['../logs_upsampling/cnn_level_5_up_15/e5/train/events.out.tfevents.1616351806.diptsrv003.119965.13616633.v2', '../logs_upsampling/cnn_level_5_up_15/e5/validation/events.out.tfevents.1616351808.diptsrv003.119965.13619874.v2', '../logs_upsampling/cnn_level_5_up_15/e9/train/events.out.tfevents.1616353442.diptsrv003.119965.15995557.v2', '../logs_upsampling/cnn_level_5_up_15/e9/validation/events.out.tfevents.1616353444.diptsrv003.119965.15998798.v2', '../logs_upsampling/cnn_level_5_up_15/e3/train/events.out.tfevents.1616350996.diptsrv003.119965.12427171.v2', '../logs_upsampling/cnn_level_5_up_15/e3/validation/events.out.tfevents.1616350999.diptsrv003.119965.12430412.v2', '../logs_upsampling/cnn_level_5_up_15/e6/train/events.out.tfevents.1616352214.diptsrv003.119965.14211364.v2', '../logs_upsampling/cnn_level_5_up_15/e6/validation/events.out.tfevents.1616352216.diptsrv003.119965.14214605.v2', '../logs_upsampling/cnn_level_5_up_15/e0/train/events.out.tfevents.1616349783.diptsrv003.119965.10642978.v2', '../logs_upsampling/cnn_level_5_up_15/e0/validation/events.out.tfevents.1616349785.diptsrv003.119965.10646219.v2', '../logs_upsampling/cnn_level_5_up_15/e4/train/events.out.tfevents.1616351402.diptsrv003.119965.13021902.v2', '../logs_upsampling/cnn_level_5_up_15/e4/validation/events.out.tfevents.1616351404.diptsrv003.119965.13025143.v2', '../logs_upsampling/cnn_level_5_up_15/e2/train/events.out.tfevents.1616350592.diptsrv003.119965.11832440.v2', '../logs_upsampling/cnn_level_5_up_15/e2/validation/events.out.tfevents.1616350594.diptsrv003.119965.11835681.v2', '../logs_upsampling/cnn_level_5_up_15/e7/train/events.out.tfevents.1616352623.diptsrv003.119965.14806095.v2', '../logs_upsampling/cnn_level_5_up_15/e7/validation/events.out.tfevents.1616352625.diptsrv003.119965.14809336.v2', '../logs_upsampling/cnn_level_5_up_15/e8/train/events.out.tfevents.1616353031.diptsrv003.119965.15400826.v2', '../logs_upsampling/cnn_level_5_up_15/e8/validation/events.out.tfevents.1616353033.diptsrv003.119965.15404067.v2', '../logs_upsampling/cnn_level_5_up_15/e1/train/events.out.tfevents.1616350187.diptsrv003.119965.11237709.v2', '../logs_upsampling/cnn_level_5_up_15/e1/validation/events.out.tfevents.1616350189.diptsrv003.119965.11240950.v2', '../logs_upsampling/cnn_level_5_up_20/e5/train/events.out.tfevents.1616356393.diptsrv003.119965.20277943.v2', '../logs_upsampling/cnn_level_5_up_20/e5/validation/events.out.tfevents.1616356395.diptsrv003.119965.20281660.v2', '../logs_upsampling/cnn_level_5_up_20/e9/train/events.out.tfevents.1616358433.diptsrv003.119965.23228067.v2', '../logs_upsampling/cnn_level_5_up_20/e9/validation/events.out.tfevents.1616358436.diptsrv003.119965.23231784.v2', '../logs_upsampling/cnn_level_5_up_20/e3/train/events.out.tfevents.1616355375.diptsrv003.119965.18802881.v2', '../logs_upsampling/cnn_level_5_up_20/e3/validation/events.out.tfevents.1616355377.diptsrv003.119965.18806598.v2', '../logs_upsampling/cnn_level_5_up_20/e6/train/events.out.tfevents.1616356898.diptsrv003.119965.21015474.v2', '../logs_upsampling/cnn_level_5_up_20/e6/validation/events.out.tfevents.1616356901.diptsrv003.119965.21019191.v2', '../logs_upsampling/cnn_level_5_up_20/e0/train/events.out.tfevents.1616353848.diptsrv003.119965.16590288.v2', '../logs_upsampling/cnn_level_5_up_20/e0/validation/events.out.tfevents.1616353850.diptsrv003.119965.16594005.v2', '../logs_upsampling/cnn_level_5_up_20/e4/train/events.out.tfevents.1616355885.diptsrv003.119965.19540412.v2', '../logs_upsampling/cnn_level_5_up_20/e4/validation/events.out.tfevents.1616355887.diptsrv003.119965.19544129.v2', '../logs_upsampling/cnn_level_5_up_20/e2/train/events.out.tfevents.1616354864.diptsrv003.119965.18065350.v2', '../logs_upsampling/cnn_level_5_up_20/e2/validation/events.out.tfevents.1616354866.diptsrv003.119965.18069067.v2', '../logs_upsampling/cnn_level_5_up_20/e7/train/events.out.tfevents.1616357409.diptsrv003.119965.21753005.v2', '../logs_upsampling/cnn_level_5_up_20/e7/validation/events.out.tfevents.1616357411.diptsrv003.119965.21756722.v2', '../logs_upsampling/cnn_level_5_up_20/e8/train/events.out.tfevents.1616357913.diptsrv003.119965.22490536.v2', '../logs_upsampling/cnn_level_5_up_20/e8/validation/events.out.tfevents.1616357916.diptsrv003.119965.22494253.v2', '../logs_upsampling/cnn_level_5_up_20/e1/train/events.out.tfevents.1616354353.diptsrv003.119965.17327819.v2', '../logs_upsampling/cnn_level_5_up_20/e1/validation/events.out.tfevents.1616354355.diptsrv003.119965.17331536.v2', '../logs_upsampling/cnn_level_5_up_5/e5/train/events.out.tfevents.1616345785.diptsrv003.119965.4609513.v2', '../logs_upsampling/cnn_level_5_up_5/e5/validation/events.out.tfevents.1616345786.diptsrv003.119965.4611795.v2', '../logs_upsampling/cnn_level_5_up_5/e9/train/events.out.tfevents.1616346571.diptsrv003.119965.5837637.v2', '../logs_upsampling/cnn_level_5_up_5/e9/validation/events.out.tfevents.1616346573.diptsrv003.119965.5839919.v2', '../logs_upsampling/cnn_level_5_up_5/e3/train/events.out.tfevents.1616345394.diptsrv003.119965.3995451.v2', '../logs_upsampling/cnn_level_5_up_5/e3/validation/events.out.tfevents.1616345396.diptsrv003.119965.3997733.v2', '../logs_upsampling/cnn_level_5_up_5/e6/train/events.out.tfevents.1616345981.diptsrv003.119965.4916544.v2', '../logs_upsampling/cnn_level_5_up_5/e6/validation/events.out.tfevents.1616345982.diptsrv003.119965.4918826.v2', '../logs_upsampling/cnn_level_5_up_5/e0/train/events.out.tfevents.1616344807.diptsrv003.119965.3074358.v2', '../logs_upsampling/cnn_level_5_up_5/e0/validation/events.out.tfevents.1616344809.diptsrv003.119965.3076640.v2', '../logs_upsampling/cnn_level_5_up_5/e4/train/events.out.tfevents.1616345590.diptsrv003.119965.4302482.v2', '../logs_upsampling/cnn_level_5_up_5/e4/validation/events.out.tfevents.1616345591.diptsrv003.119965.4304764.v2', '../logs_upsampling/cnn_level_5_up_5/e2/train/events.out.tfevents.1616345200.diptsrv003.119965.3688420.v2', '../logs_upsampling/cnn_level_5_up_5/e2/validation/events.out.tfevents.1616345201.diptsrv003.119965.3690702.v2', '../logs_upsampling/cnn_level_5_up_5/e7/train/events.out.tfevents.1616346178.diptsrv003.119965.5223575.v2', '../logs_upsampling/cnn_level_5_up_5/e7/validation/events.out.tfevents.1616346179.diptsrv003.119965.5225857.v2', '../logs_upsampling/cnn_level_5_up_5/e8/train/events.out.tfevents.1616346375.diptsrv003.119965.5530606.v2', '../logs_upsampling/cnn_level_5_up_5/e8/validation/events.out.tfevents.1616346376.diptsrv003.119965.5532888.v2', '../logs_upsampling/cnn_level_5_up_5/e1/train/events.out.tfevents.1616345004.diptsrv003.119965.3381389.v2', '../logs_upsampling/cnn_level_5_up_5/e1/validation/events.out.tfevents.1616345005.diptsrv003.119965.3383671.v2', '../logs_upsampling/cnn_level_5_up_10/e5/train/events.out.tfevents.1616348279.diptsrv003.119965.8393823.v2', '../logs_upsampling/cnn_level_5_up_10/e5/validation/events.out.tfevents.1616348281.diptsrv003.119965.8396581.v2', '../logs_upsampling/cnn_level_5_up_10/e9/train/events.out.tfevents.1616349484.diptsrv003.119965.10193147.v2', '../logs_upsampling/cnn_level_5_up_10/e9/validation/events.out.tfevents.1616349485.diptsrv003.119965.10195905.v2', '../logs_upsampling/cnn_level_5_up_10/e3/train/events.out.tfevents.1616347673.diptsrv003.119965.7494161.v2', '../logs_upsampling/cnn_level_5_up_10/e3/validation/events.out.tfevents.1616347675.diptsrv003.119965.7496919.v2', '../logs_upsampling/cnn_level_5_up_10/e6/train/events.out.tfevents.1616348583.diptsrv003.119965.8843654.v2', '../logs_upsampling/cnn_level_5_up_10/e6/validation/events.out.tfevents.1616348584.diptsrv003.119965.8846412.v2', '../logs_upsampling/cnn_level_5_up_10/e0/train/events.out.tfevents.1616346769.diptsrv003.119965.6144668.v2', '../logs_upsampling/cnn_level_5_up_10/e0/validation/events.out.tfevents.1616346771.diptsrv003.119965.6147426.v2', '../logs_upsampling/cnn_level_5_up_10/e4/train/events.out.tfevents.1616347975.diptsrv003.119965.7943992.v2', '../logs_upsampling/cnn_level_5_up_10/e4/validation/events.out.tfevents.1616347977.diptsrv003.119965.7946750.v2', '../logs_upsampling/cnn_level_5_up_10/e2/train/events.out.tfevents.1616347374.diptsrv003.119965.7044330.v2', '../logs_upsampling/cnn_level_5_up_10/e2/validation/events.out.tfevents.1616347376.diptsrv003.119965.7047088.v2', '../logs_upsampling/cnn_level_5_up_10/e7/train/events.out.tfevents.1616348887.diptsrv003.119965.9293485.v2', '../logs_upsampling/cnn_level_5_up_10/e7/validation/events.out.tfevents.1616348888.diptsrv003.119965.9296243.v2', '../logs_upsampling/cnn_level_5_up_10/e8/train/events.out.tfevents.1616349187.diptsrv003.119965.9743316.v2', '../logs_upsampling/cnn_level_5_up_10/e8/validation/events.out.tfevents.1616349189.diptsrv003.119965.9746074.v2', '../logs_upsampling/cnn_level_5_up_10/e1/train/events.out.tfevents.1616347073.diptsrv003.119965.6594499.v2', '../logs_upsampling/cnn_level_5_up_10/e1/validation/events.out.tfevents.1616347075.diptsrv003.119965.6597257.v2', '../logs_upsampling/cnn_level_5/e5/train/events.out.tfevents.1616343674.diptsrv003.119965.1537443.v2', '../logs_upsampling/cnn_level_5/e5/validation/events.out.tfevents.1616343675.diptsrv003.119965.1539933.v2', '../logs_upsampling/cnn_level_5/e9/train/events.out.tfevents.1616344579.diptsrv003.119965.2767071.v2', '../logs_upsampling/cnn_level_5/e9/validation/events.out.tfevents.1616344580.diptsrv003.119965.2769561.v2', '../logs_upsampling/cnn_level_5/e3/train/events.out.tfevents.1616343224.diptsrv003.119965.922629.v2', '../logs_upsampling/cnn_level_5/e3/validation/events.out.tfevents.1616343225.diptsrv003.119965.925119.v2', '../logs_upsampling/cnn_level_5/e6/train/events.out.tfevents.1616343901.diptsrv003.119965.1844850.v2', '../logs_upsampling/cnn_level_5/e6/validation/events.out.tfevents.1616343902.diptsrv003.119965.1847340.v2', '../logs_upsampling/cnn_level_5/e0/train/events.out.tfevents.1616342543.diptsrv003.119965.408.v2', '../logs_upsampling/cnn_level_5/e0/validation/events.out.tfevents.1616342547.diptsrv003.119965.2898.v2', '../logs_upsampling/cnn_level_5/e4/train/events.out.tfevents.1616343448.diptsrv003.119965.1230036.v2', '../logs_upsampling/cnn_level_5/e4/validation/events.out.tfevents.1616343450.diptsrv003.119965.1232526.v2', '../logs_upsampling/cnn_level_5/e2/train/events.out.tfevents.1616342998.diptsrv003.119965.615222.v2', '../logs_upsampling/cnn_level_5/e2/validation/events.out.tfevents.1616343000.diptsrv003.119965.617712.v2', '../logs_upsampling/cnn_level_5/e7/train/events.out.tfevents.1616344128.diptsrv003.119965.2152257.v2', '../logs_upsampling/cnn_level_5/e7/validation/events.out.tfevents.1616344130.diptsrv003.119965.2154747.v2', '../logs_upsampling/cnn_level_5/e8/train/events.out.tfevents.1616344351.diptsrv003.119965.2459664.v2', '../logs_upsampling/cnn_level_5/e8/validation/events.out.tfevents.1616344353.diptsrv003.119965.2462154.v2', '../logs_upsampling/cnn_level_5/e1/train/events.out.tfevents.1616342771.diptsrv003.119965.307815.v2', '../logs_upsampling/cnn_level_5/e1/validation/events.out.tfevents.1616342773.diptsrv003.119965.310305.v2', '../logs_upsampling/cnn_level_5_up_25/e5/train/events.out.tfevents.1616362018.diptsrv003.119965.28367253.v2', '../logs_upsampling/cnn_level_5_up_25/e5/validation/events.out.tfevents.1616362021.diptsrv003.119965.28371446.v2', '../logs_upsampling/cnn_level_5_up_25/e9/train/events.out.tfevents.1616364503.diptsrv003.119965.31888577.v2', '../logs_upsampling/cnn_level_5_up_25/e9/validation/events.out.tfevents.1616364505.diptsrv003.119965.31892770.v2', '../logs_upsampling/cnn_level_5_up_25/e3/train/events.out.tfevents.1616360793.diptsrv003.119965.26606591.v2', '../logs_upsampling/cnn_level_5_up_25/e3/validation/events.out.tfevents.1616360796.diptsrv003.119965.26610784.v2', '../logs_upsampling/cnn_level_5_up_25/e6/train/events.out.tfevents.1616362642.diptsrv003.119965.29247584.v2', '../logs_upsampling/cnn_level_5_up_25/e6/validation/events.out.tfevents.1616362645.diptsrv003.119965.29251777.v2', '../logs_upsampling/cnn_level_5_up_25/e0/train/events.out.tfevents.1616358942.diptsrv003.119965.23965598.v2', '../logs_upsampling/cnn_level_5_up_25/e0/validation/events.out.tfevents.1616358944.diptsrv003.119965.23969791.v2', '../logs_upsampling/cnn_level_5_up_25/e4/train/events.out.tfevents.1616361410.diptsrv003.119965.27486922.v2', '../logs_upsampling/cnn_level_5_up_25/e4/validation/events.out.tfevents.1616361412.diptsrv003.119965.27491115.v2', '../logs_upsampling/cnn_level_5_up_25/e2/train/events.out.tfevents.1616360180.diptsrv003.119965.25726260.v2', '../logs_upsampling/cnn_level_5_up_25/e2/validation/events.out.tfevents.1616360183.diptsrv003.119965.25730453.v2', '../logs_upsampling/cnn_level_5_up_25/e7/train/events.out.tfevents.1616363257.diptsrv003.119965.30127915.v2', '../logs_upsampling/cnn_level_5_up_25/e7/validation/events.out.tfevents.1616363259.diptsrv003.119965.30132108.v2', '../logs_upsampling/cnn_level_5_up_25/e8/train/events.out.tfevents.1616363876.diptsrv003.119965.31008246.v2', '../logs_upsampling/cnn_level_5_up_25/e8/validation/events.out.tfevents.1616363879.diptsrv003.119965.31012439.v2', '../logs_upsampling/cnn_level_5_up_25/e1/train/events.out.tfevents.1616359558.diptsrv003.119965.24845929.v2', '../logs_upsampling/cnn_level_5_up_25/e1/validation/events.out.tfevents.1616359561.diptsrv003.119965.24850122.v2'])"
      ]
     },
     "metadata": {},
     "execution_count": 14
    }
   ],
   "source": []
  }
 ],
 "metadata": {
  "kernelspec": {
   "display_name": "Python 3",
   "language": "python",
   "name": "python3"
  },
  "language_info": {
   "codemirror_mode": {
    "name": "ipython",
    "version": 2
   },
   "file_extension": ".py",
   "mimetype": "text/x-python",
   "name": "python",
   "nbconvert_exporter": "python",
   "pygments_lexer": "ipython2",
   "version": "3.9.2-final"
  }
 },
 "nbformat": 4,
 "nbformat_minor": 0
}