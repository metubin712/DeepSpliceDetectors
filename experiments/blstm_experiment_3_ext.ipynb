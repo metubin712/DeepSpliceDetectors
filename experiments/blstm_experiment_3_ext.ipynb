{
 "cells": [
  {
   "cell_type": "code",
   "execution_count": null,
   "metadata": {},
   "outputs": [],
   "source": [
    "import sys\n",
    "sys.path.append(\"..\")"
   ]
  },
  {
   "cell_type": "code",
   "execution_count": null,
   "metadata": {},
   "outputs": [],
   "source": [
    "import numpy as np\n",
    "import tensorflow as tf\n",
    "from tensorflow.keras.callbacks import TensorBoard\n",
    "from tensorflow.keras.preprocessing import sequence\n",
    "from tensorflow.keras.models import Sequential, Model\n",
    "from tensorflow.keras.layers import Dense, Dropout, Embedding, LSTM, Bidirectional, Input, MaxPool1D, Flatten, Concatenate\n",
    "from tensorflow.keras.optimizers import Adam, SGD\n",
    "from tensorflow.keras.losses import categorical_crossentropy\n",
    "from tensorflow.keras.backend import reverse\n",
    "from data_generator import DataGenerator\n",
    "import os"
   ]
  },
  {
   "cell_type": "code",
   "execution_count": null,
   "metadata": {},
   "outputs": [],
   "source": [
    "class TrainerWrapper:\n",
    "    def __init__(self, name):\n",
    "        self._model = None\n",
    "        self._is_summary_shown = False\n",
    "        self._network_name = name\n",
    "    \n",
    "    def _load_data(self, seed):\n",
    "        data_generator = DataGenerator(seed=seed, upsampling=20, validation_split=0.2)\n",
    "        self._validation_X, self._validation_y = data_generator.get_validation_data()\n",
    "        self._training_generator = data_generator.get_training_generator(2000)\n",
    "    \n",
    "    def _create_network(self):\n",
    "        inputs = Input(shape=(140, 4))\n",
    "        \n",
    "        lstm = LSTM(2, return_sequences=True)(inputs)\n",
    "        rev_inputs = reverse(inputs, axes=1)\n",
    "        rev_lstm = LSTM(2, return_sequences=True)(rev_inputs)\n",
    "        \n",
    "        blstm = Concatenate(axis=-1)([lstm, rev_lstm])\n",
    "        \n",
    "        lstm = LSTM(2, return_sequences=True)(blstm)\n",
    "        rev_inputs = reverse(blstm, axes=1)\n",
    "        rev_lstm = LSTM(2, return_sequences=True)(rev_inputs)\n",
    "        \n",
    "        blstm = Concatenate(axis=-1)([lstm, rev_lstm])\n",
    "        \n",
    "        lstm = LSTM(2, return_sequences=True)(blstm)\n",
    "        rev_inputs = reverse(blstm, axes=1)\n",
    "        rev_lstm = LSTM(2, return_sequences=True)(rev_inputs)\n",
    "        \n",
    "        blstm = Concatenate(axis=-1)([lstm, rev_lstm])\n",
    "        \n",
    "        max_pooled = MaxPool1D(pool_size=7)(blstm)\n",
    "        flatten = Flatten()(max_pooled)\n",
    "        classifier = Dense(units=5, activation='relu')(flatten)\n",
    "        outputs = Dense(units=3, activation='softmax')(classifier)\n",
    "        self._model = Model(inputs=inputs, outputs=outputs)\n",
    "        \n",
    "    def _compile_model(self):\n",
    "        self._model.compile(\n",
    "            loss=categorical_crossentropy, \n",
    "            optimizer=SGD(learning_rate=0.01), \n",
    "            metrics=['accuracy']\n",
    "        )\n",
    "    \n",
    "    def _fit(self, epochs):\n",
    "        self._model.fit(\n",
    "            self._training_generator,\n",
    "            epochs=epochs,\n",
    "            shuffle=True,\n",
    "            validation_data=(self._validation_X, self._validation_y),\n",
    "            verbose=False,\n",
    "            callbacks=[\n",
    "                TensorBoard(\n",
    "                    log_dir=f'../logs/{self._name}',\n",
    "                    write_graph=False,\n",
    "                    write_images=False,\n",
    "                    update_freq=\"epoch\"\n",
    "                )\n",
    "            ]\n",
    "        )\n",
    "        \n",
    "        \n",
    "    def fit(self, experiments=5, epochs=10):\n",
    "        for seed in range(experiments):\n",
    "            self._name = f'{self._network_name}/e{seed}/'\n",
    "            self._load_data(seed=seed)\n",
    "            self._create_network()\n",
    "            self._compile_model()\n",
    "            if not self._is_summary_shown:\n",
    "                self._model.summary()\n",
    "                self._is_summary_shown = True\n",
    "            self._fit(epochs)\n",
    "            tf.keras.backend.clear_session()"
   ]
  },
  {
   "cell_type": "code",
   "execution_count": null,
   "metadata": {
    "scrolled": false
   },
   "outputs": [],
   "source": [
    "execute_on_gpu = True\n",
    "\n",
    "with tf.device('/gpu:0' if execute_on_gpu else '/cpu:0'):\n",
    "    model = TrainerWrapper(name='blstm_exp_3_ext')\n",
    "    model.fit(10, 1000)"
   ]
  }
 ],
 "metadata": {
  "kernelspec": {
   "display_name": "Python 3",
   "language": "python",
   "name": "python3"
  },
  "language_info": {
   "codemirror_mode": {
    "name": "ipython",
    "version": 3
   },
   "file_extension": ".py",
   "mimetype": "text/x-python",
   "name": "python",
   "nbconvert_exporter": "python",
   "pygments_lexer": "ipython3",
   "version": "3.6.6"
  }
 },
 "nbformat": 4,
 "nbformat_minor": 4
}
